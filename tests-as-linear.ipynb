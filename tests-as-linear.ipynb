{
 "cells": [
  {
   "cell_type": "markdown",
   "metadata": {},
   "source": [
    "# Common statistical tests are linear models (or: how to teach stats)\n",
    "\n",
    "Originally by Jonas Kristoffer Lindeløv ([blog](https://lindeloev.net), [profile](http://personprofil.aau.dk/117060)). Python port by George Ho ([blog](https://eigenfoo.xyz))."
   ]
  },
  {
   "cell_type": "code",
   "execution_count": 1,
   "metadata": {},
   "outputs": [
    {
     "name": "stdout",
     "output_type": "stream",
     "text": [
      "Last updated: June 24, 2019\n"
     ]
    }
   ],
   "source": [
    "import datetime\n",
    "import numpy as np\n",
    "import pandas as pd\n",
    "import scipy\n",
    "import statsmodels.api as sm\n",
    "import statsmodels.formula.api as smf\n",
    "import matplotlib.pyplot as plt\n",
    "plt.style.use('seaborn-whitegrid')\n",
    "\n",
    "print(\"Last updated: {}\".format(datetime.datetime.now().strftime(\"%B %d, %Y\")))"
   ]
  },
  {
   "cell_type": "markdown",
   "metadata": {},
   "source": [
    "# The simplicity underlying common tests\n",
    "\n",
    "Most of the common statistical models (t-test, correlation, ANOVA; chi-square, etc.) are special cases of linear models or a very close approximation. This beautiful simplicity means that there is less to learn. In particular, it all comes down to $y = a \\cdot x + b$ which most students know from highschool. Unfortunately, stats intro courses are usually taught as if each test is an independent tool, needlessly making life more complicated for students and teachers alike. \n",
    "\n",
    "This needless complexity multiplies when students try to rote learn the parametric assumptions underlying each test separately rather than deducing them from the linear model.\n",
    "\n",
    "For this reason, I think that teaching linear models first and foremost and *then* name-dropping the special cases along the way makes for an excellent teaching strategy, emphasizing *understanding* over rote learning. Since linear models are the same across frequentist, Bayesian, and permutation-based inferences, I'd argue that it's better to start with modeling than p-values, type-1 errors, Bayes factors, or other inferences.\n",
    "\n",
    "Concerning the teaching of *\"non-parametric\"* tests in intro-courses, I think that we can justify [lying-to-children](https://en.wikipedia.org/wiki/Lie-to-children) and teach \"non-parametric\"\" tests as if they are merely ranked versions of the corresponding parametric tests. It is much better for students to think \"ranks!\" than to believe that you can magically throw away assumptions. Indeed, the Bayesian equivalents of \"non-parametric\"\" tests implemented in [JASP](https://jasp-stats.org) [literally just do (latent) ranking](https://arxiv.org/abs/1712.06941) and that's it. For the frequentist \"non-parametric\"\" tests considered here, this approach is highly accurate for N > 15.\n",
    "\n",
    "Use the menu to jump to your favourite section. There are links to lots of similar (though more scattered) stuff under [sources](#links) and [teaching materials](#course). I hope that you will join in suggesting improvements or submitting improvements yourself in [the Github repo to this page](https://github.com/lindeloev/tests-as-linear). Let's make it awesome!"
   ]
  },
  {
   "cell_type": "markdown",
   "metadata": {},
   "source": [
    "# Settings and toy data"
   ]
  },
  {
   "cell_type": "code",
   "execution_count": 2,
   "metadata": {},
   "outputs": [],
   "source": [
    "# Reproducible results\n",
    "np.random.seed(1859)\n",
    "\n",
    "# TODO any plt stuff, possibly in a function?"
   ]
  },
  {
   "cell_type": "code",
   "execution_count": 3,
   "metadata": {},
   "outputs": [
    {
     "data": {
      "text/html": [
       "<div>\n",
       "<style scoped>\n",
       "    .dataframe tbody tr th:only-of-type {\n",
       "        vertical-align: middle;\n",
       "    }\n",
       "\n",
       "    .dataframe tbody tr th {\n",
       "        vertical-align: top;\n",
       "    }\n",
       "\n",
       "    .dataframe thead th {\n",
       "        text-align: right;\n",
       "    }\n",
       "</style>\n",
       "<table border=\"1\" class=\"dataframe\">\n",
       "  <thead>\n",
       "    <tr style=\"text-align: right;\">\n",
       "      <th></th>\n",
       "      <th>x</th>\n",
       "      <th>y</th>\n",
       "      <th>y2</th>\n",
       "    </tr>\n",
       "  </thead>\n",
       "  <tbody>\n",
       "    <tr>\n",
       "      <th>0</th>\n",
       "      <td>-0.519600</td>\n",
       "      <td>0.468526</td>\n",
       "      <td>1.634513</td>\n",
       "    </tr>\n",
       "    <tr>\n",
       "      <th>1</th>\n",
       "      <td>0.748846</td>\n",
       "      <td>-1.061492</td>\n",
       "      <td>-1.218693</td>\n",
       "    </tr>\n",
       "    <tr>\n",
       "      <th>2</th>\n",
       "      <td>-1.411567</td>\n",
       "      <td>0.995318</td>\n",
       "      <td>0.185277</td>\n",
       "    </tr>\n",
       "    <tr>\n",
       "      <th>3</th>\n",
       "      <td>-0.416355</td>\n",
       "      <td>1.839929</td>\n",
       "      <td>2.944933</td>\n",
       "    </tr>\n",
       "    <tr>\n",
       "      <th>4</th>\n",
       "      <td>0.943077</td>\n",
       "      <td>1.265272</td>\n",
       "      <td>-1.159019</td>\n",
       "    </tr>\n",
       "  </tbody>\n",
       "</table>\n",
       "</div>"
      ],
      "text/plain": [
       "          x         y        y2\n",
       "0 -0.519600  0.468526  1.634513\n",
       "1  0.748846 -1.061492 -1.218693\n",
       "2 -1.411567  0.995318  0.185277\n",
       "3 -0.416355  1.839929  2.944933\n",
       "4  0.943077  1.265272 -1.159019"
      ]
     },
     "execution_count": 3,
     "metadata": {},
     "output_type": "execute_result"
    }
   ],
   "source": [
    "df = pd.DataFrame()\n",
    "df[\"x\"] = np.random.normal(loc=0.0, scale=1.0, size=50)  # Used in correlation where this is on x-axis\n",
    "df[\"y\"] = np.random.normal(loc=0.3, scale=2.0, size=50)  # Almost zero mean\n",
    "df[\"y2\"] = np.random.normal(loc=0.5, scale=1.5, size=50)  # Used in two means\n",
    "\n",
    "df.head()"
   ]
  },
  {
   "cell_type": "markdown",
   "metadata": {},
   "source": [
    "# Pearson and Spearman correlation\n",
    "\n",
    "### Theory: As linear models \n",
    "\n",
    "Model: the recipe for $y$ is a slope ($\\beta_1$) times $x$ plus an intercept ($\\beta_0$, aka a straight line).\n",
    "\n",
    "\n",
    "$y = \\beta_0 + \\beta_1 x \\qquad \\mathcal{H}_0: \\beta_1 = 0$\n",
    "\n",
    "... which is a math-y way of writing the good old $y = ax + b$ (here ordered as $y = b + ax$). In R we are lazy and write `y ~ 1 + x` which R reads like `y = 1*number + x*othernumber` and the task of t-tests, lm, etc., is simply to find the numbers that best predict $y$.\n",
    "\n",
    "Either way you write it, it's an intercept ($\\beta_0$) and a slope ($\\beta_1$) yielding a straight line:"
   ]
  },
  {
   "cell_type": "code",
   "execution_count": 4,
   "metadata": {},
   "outputs": [],
   "source": [
    "# Correlated data with fixed correlation\n",
    "correlated_data = pd.DataFrame()\n",
    "correlated_data[\"x\"], correlated_data[\"y\"] = \\\n",
    "    np.random.multivariate_normal(mean=[0.9, 0.9],\n",
    "                                  cov=np.array([1, 0.9, 0.9, 1]).reshape(2, 2),\n",
    "                                  size=30).transpose()"
   ]
  },
  {
   "cell_type": "code",
   "execution_count": 5,
   "metadata": {},
   "outputs": [],
   "source": [
    "res = smf.ols(formula=\"y ~ 1 + x\", data=correlated_data).fit()\n",
    "intercept, slope = res.params"
   ]
  },
  {
   "cell_type": "code",
   "execution_count": 6,
   "metadata": {
    "scrolled": false
   },
   "outputs": [
    {
     "data": {
      "image/png": "[encoded data removed]",
      "text/plain": [
       "<Figure size 720x576 with 1 Axes>"
      ]
     },
     "metadata": {
      "needs_background": "light"
     },
     "output_type": "display_data"
    }
   ],
   "source": [
    "fig, ax = plt.subplots(figsize=[10, 8])\n",
    "ax.scatter(correlated_data[\"y\"], correlated_data[\"x\"], color=\"k\")\n",
    "ax.axhline(intercept, color=\"b\", label=r\"$\\beta_0$ (Intercept)\")\n",
    "ax.plot(ax.get_xlim(), [slope*x + intercept for x in ax.get_xlim()],\n",
    "        color=\"r\", label=r\"$\\beta_1$ (Slope)\")\n",
    "ax.legend();"
   ]
  },
  {
   "cell_type": "markdown",
   "metadata": {},
   "source": [
    "This is often simply called a **regression** model which can be extended to **multiple regression** where there are several $\\beta$s and on the right-hand side multiplied with the predictors. Everything below, from [one-sample t-test](#t1) to [two-way ANOVA](#anova2) are just special cases of this system. Nothing more, nothing less.\n",
    "\n",
    "As the name implies, the **Spearman rank correlation** is a **Pearson correlation** on rank-transformed $x$ and $y$:\n",
    "\n",
    "$\\text{rank}(y) = \\beta_0 + \\beta_1 \\cdot \\text{rank}(x) \\qquad \\mathcal{H}_0: \\beta_1 = 0$\n",
    "\n",
    "I'll introduce [ranks](#Theory:-rank-transformation) in a minute. For now, notice that the correlation coefficient of the linear model is identical to a \"real\" Pearson correlation, but p-values are an approximation which is is [appropriate for samples greater than N=10 and almost perfect when N > 20](simulations/simulate_spearman.html).\n",
    "\n",
    "Such a nice and non-mysterious equivalence that many students are left unaware of! Visualizing them side by side including data labels, we see this rank-transformation in action:"
   ]
  },
  {
   "cell_type": "code",
   "execution_count": 7,
   "metadata": {},
   "outputs": [],
   "source": [
    "ranked_data = np.argsort(correlated_data, axis=0)\n",
    "res = smf.ols(formula=\"y ~ 1 + x\", data=ranked_data).fit()\n",
    "intercept_spearman, slope_spearman = res.params"
   ]
  },
  {
   "cell_type": "code",
   "execution_count": 8,
   "metadata": {},
   "outputs": [
    {
     "data": {
      "image/png": "[encoded data removed]",
      "text/plain": [
       "<Figure size 1296x576 with 2 Axes>"
      ]
     },
     "metadata": {
      "needs_background": "light"
     },
     "output_type": "display_data"
    }
   ],
   "source": [
    "fig, axarr = plt.subplots(ncols=2, figsize=[18, 8])\n",
    "\n",
    "for ax, data, title, a, b in zip(axarr, [correlated_data, ranked_data],\n",
    "                           [\"Pearson\", \"Spearman\"], [intercept, intercept_spearman], [slope, slope_spearman]):\n",
    "    ax.set_title(title)\n",
    "    ax.scatter(data[\"y\"], data[\"x\"], color=\"k\")\n",
    "    ax.axhline(a, color=\"b\", label=r\"$\\beta_0$ (Intercept)\")\n",
    "    ax.plot(ax.get_xlim(), [b*x + a for x in ax.get_xlim()], color=\"r\", label=r\"$\\beta_1$ (Slope)\")\n",
    "    ax.legend(fontsize=\"large\")"
   ]
  },
  {
   "cell_type": "markdown",
   "metadata": {},
   "source": [
    "### Theory: rank-transformation\n",
    "\n",
    "`np.argsort` simply takes a list of numbers and \"replaces\" them with the integers of their rank (1st smallest, 2nd smallest, 3rd smallest, etc.). So the result of the rank-transformation `np.argsort([3.6, 3.4, -5.0, 8.2])` is `[3, 2, 1, 4]`. See that in the figure above? \n",
    "\n",
    "A *signed* rank is the same, just where we rank according to absolute size first and then add in the sign second. So the signed rank here would be `[2, 1, -3, 4]`. Or in code:\n",
    "\n",
    "```python\n",
    "def signed_rank(x):\n",
    "    return np.sign(x) * np.argsort(x)\n",
    "```\n",
    "\n",
    "I hope I don't offend anyone when I say that ranks are easy; yet it's all you need to do to convert most parametric tests into their \"non-parametric\" counterparts! One interesting implication is that *many \"non-parametric tests\" are about as parametric as their parametric counterparts with means, standard deviations, homogeneity of variance, etc. - just on rank-transformed data*. That's why I put \"non-parametric\" in quotation marks.\n",
    "\n",
    "### Python code: Pearson correlation\n",
    "\n",
    "It couldn't be much simpler to run these models in R. They yield identical `p` and `t`, but there's a catch: `lm` gives you the *slope* and even though that is usually much more interpretable and informative than the *correlation coefficient* *r*, you may still want *r*. Luckily, the slope becomes `r` if `x` and `y` have a standard deviation of exactly 1. You can do this using `scale(x)` or `I(x/sd(x))`:"
   ]
  },
  {
   "cell_type": "code",
   "execution_count": 9,
   "metadata": {},
   "outputs": [],
   "source": [
    "scaled_data = correlated_data / correlated_data.std()\n",
    "\n",
    "res1 = smf.ols(formula=\"y ~ 1 + x\", data=correlated_data).fit()\n",
    "res2 = smf.ols(formula=\"y ~ 1 + x\", data=scaled_data).fit()\n",
    "r, p = scipy.stats.pearsonr(correlated_data[\"x\"], correlated_data[\"y\"])"
   ]
  },
  {
   "cell_type": "code",
   "execution_count": 10,
   "metadata": {},
   "outputs": [
    {
     "data": {
      "text/html": [
       "<div>\n",
       "<style scoped>\n",
       "    .dataframe tbody tr th:only-of-type {\n",
       "        vertical-align: middle;\n",
       "    }\n",
       "\n",
       "    .dataframe tbody tr th {\n",
       "        vertical-align: top;\n",
       "    }\n",
       "\n",
       "    .dataframe thead th {\n",
       "        text-align: right;\n",
       "    }\n",
       "</style>\n",
       "<table border=\"1\" class=\"dataframe\">\n",
       "  <thead>\n",
       "    <tr style=\"text-align: right;\">\n",
       "      <th></th>\n",
       "      <th>Slope</th>\n",
       "      <th>p-values</th>\n",
       "      <th>t-values</th>\n",
       "      <th>0.025 CI</th>\n",
       "      <th>0.975 CI</th>\n",
       "    </tr>\n",
       "  </thead>\n",
       "  <tbody>\n",
       "    <tr>\n",
       "      <th>scipy.stats.pearsonr</th>\n",
       "      <td>0.886038</td>\n",
       "      <td>7.507871e-11</td>\n",
       "      <td>NaN</td>\n",
       "      <td>NaN</td>\n",
       "      <td>NaN</td>\n",
       "    </tr>\n",
       "    <tr>\n",
       "      <th>smf.ols</th>\n",
       "      <td>0.890103</td>\n",
       "      <td>7.507871e-11</td>\n",
       "      <td>10.112887</td>\n",
       "      <td>0.709809</td>\n",
       "      <td>0.709809</td>\n",
       "    </tr>\n",
       "    <tr>\n",
       "      <th>smf.ols (scaled)</th>\n",
       "      <td>0.886038</td>\n",
       "      <td>7.507871e-11</td>\n",
       "      <td>10.112887</td>\n",
       "      <td>0.706567</td>\n",
       "      <td>0.706567</td>\n",
       "    </tr>\n",
       "  </tbody>\n",
       "</table>\n",
       "</div>"
      ],
      "text/plain": [
       "                         Slope      p-values   t-values  0.025 CI  0.975 CI\n",
       "scipy.stats.pearsonr  0.886038  7.507871e-11        NaN       NaN       NaN\n",
       "smf.ols               0.890103  7.507871e-11  10.112887  0.709809  0.709809\n",
       "smf.ols (scaled)      0.886038  7.507871e-11  10.112887  0.706567  0.706567"
      ]
     },
     "execution_count": 10,
     "metadata": {},
     "output_type": "execute_result"
    }
   ],
   "source": [
    "# Tabulate and display\n",
    "results = [res1, res2]\n",
    "df = pd.DataFrame(index=[\"scipy.stats.pearsonr\", \"smf.ols\", \"smf.ols (scaled)\"])\n",
    "df[\"Slope\"] = [r] + [res.params.x for res in results]\n",
    "df[\"p-values\"] = [p] + [res.pvalues.x for res in results]\n",
    "df[\"t-values\"] = [None] + [res.tvalues.x for res in results]\n",
    "df[\"0.025 CI\"] = [None] + [res.conf_int().loc[\"x\", 0] for res in results]\n",
    "df[\"0.975 CI\"] = [None] + [res.conf_int().loc[\"x\", 0] for res in results]\n",
    "\n",
    "df"
   ]
  },
  {
   "cell_type": "markdown",
   "metadata": {},
   "source": [
    "Notice how scipy.stats and smf.ols (scaled) have the same values.\n",
    "\n",
    "### Python code: Spearman correlation\n",
    "\n",
    "Note that we can interpret the slope which is the number of ranks $y$ change for each rank on $x$. I think that this is a pretty interesting number. However, the intercept is less interpretable since it lies at $rank(x) = 0$ which is impossible since x starts at 1.\n",
    "\n",
    "See the identical `r` (now \"rho\") and `p`:"
   ]
  },
  {
   "cell_type": "code",
   "execution_count": 11,
   "metadata": {},
   "outputs": [],
   "source": [
    "ranked_data = np.argsort(correlated_data, axis=0)\n",
    "\n",
    "res = smf.ols(formula=\"y ~ 1 + x\", data=ranked_data).fit()\n",
    "r, p = scipy.stats.spearmanr(ranked_data[\"x\"], ranked_data[\"y\"])"
   ]
  },
  {
   "cell_type": "code",
   "execution_count": 12,
   "metadata": {},
   "outputs": [
    {
     "data": {
      "text/html": [
       "<div>\n",
       "<style scoped>\n",
       "    .dataframe tbody tr th:only-of-type {\n",
       "        vertical-align: middle;\n",
       "    }\n",
       "\n",
       "    .dataframe tbody tr th {\n",
       "        vertical-align: top;\n",
       "    }\n",
       "\n",
       "    .dataframe thead th {\n",
       "        text-align: right;\n",
       "    }\n",
       "</style>\n",
       "<table border=\"1\" class=\"dataframe\">\n",
       "  <thead>\n",
       "    <tr style=\"text-align: right;\">\n",
       "      <th></th>\n",
       "      <th>Slope</th>\n",
       "      <th>p-values</th>\n",
       "      <th>t-values</th>\n",
       "      <th>0.025 CI</th>\n",
       "      <th>0.975 CI</th>\n",
       "    </tr>\n",
       "  </thead>\n",
       "  <tbody>\n",
       "    <tr>\n",
       "      <th>scipy.stats.spearmanr</th>\n",
       "      <td>-0.102558</td>\n",
       "      <td>0.589685</td>\n",
       "      <td>NaN</td>\n",
       "      <td>NaN</td>\n",
       "      <td>NaN</td>\n",
       "    </tr>\n",
       "    <tr>\n",
       "      <th>smf.ols (ranked)</th>\n",
       "      <td>-0.102558</td>\n",
       "      <td>0.589685</td>\n",
       "      <td>-0.545565</td>\n",
       "      <td>-0.48763</td>\n",
       "      <td>-0.48763</td>\n",
       "    </tr>\n",
       "  </tbody>\n",
       "</table>\n",
       "</div>"
      ],
      "text/plain": [
       "                          Slope  p-values  t-values  0.025 CI  0.975 CI\n",
       "scipy.stats.spearmanr -0.102558  0.589685       NaN       NaN       NaN\n",
       "smf.ols (ranked)      -0.102558  0.589685 -0.545565  -0.48763  -0.48763"
      ]
     },
     "execution_count": 12,
     "metadata": {},
     "output_type": "execute_result"
    }
   ],
   "source": [
    "# Tabulate and display\n",
    "df = pd.DataFrame(index=[\"scipy.stats.spearmanr\", \"smf.ols (ranked)\"])\n",
    "df[\"Slope\"] = [r, res.params.x]\n",
    "df[\"p-values\"] = [p, res.pvalues.x]\n",
    "df[\"t-values\"] = [None, res.tvalues.x]\n",
    "df[\"0.025 CI\"] = [None, res.conf_int().loc[\"x\", 0]]\n",
    "df[\"0.975 CI\"] = [None, res.conf_int().loc[\"x\", 0]]\n",
    "\n",
    "df"
   ]
  },
  {
   "cell_type": "markdown",
   "metadata": {},
   "source": [
    "# One mean\n",
    "\n",
    "## One sample t-test and Wilcoxon signed-rank\n",
    "\n",
    "### Theory: As linear models\n",
    "\n",
    "**t-test** model: A single number predicts $y$.\n",
    "\n",
    "$y = \\beta_0 \\qquad \\mathcal{H}_0: \\beta_0 = 0$\n",
    "\n",
    "In other words, it's our good old $y = \\beta_0 + \\beta_1*x$ where the last term is gone since there is no $x$ (essentially $x=0$, see left figure below).\n",
    "\n",
    "The same is to a very close approximately true for **Wilcoxon signed-rank test**, just with the [signed ranks](#rank) of $y$ instead of $y$ itself (see right panel below).\n",
    "\n",
    "$\\text{signed_rank}(y) = \\beta_0$\n",
    "\n",
    "[This approximation is good enough when the sample size is larger than 14 and almost perfect if the sample size is larger than 50](simulations/simulate_wilcoxon.html)."
   ]
  },
  {
   "cell_type": "code",
   "execution_count": 13,
   "metadata": {},
   "outputs": [],
   "source": [
    "# TODO make plot"
   ]
  },
  {
   "cell_type": "markdown",
   "metadata": {},
   "source": [
    "### Python code: One-sample t-test\n",
    "\n",
    "Try running the R code below and see that the linear model (`lm`) produces the same $t$, $p$, and $r$ as the built-in `t.test`. The confidence interval is not presented in the output of `lm` but is also identical if you use `confint(lm(...))`:"
   ]
  },
  {
   "cell_type": "code",
   "execution_count": null,
   "metadata": {},
   "outputs": [],
   "source": []
  },
  {
   "cell_type": "markdown",
   "metadata": {},
   "source": [
    "### Python code: Wilcoxon signed-rank test\n",
    "\n",
    "In addition to matching `p`-values, `lm` also gives us the mean signed rank, which I find to be an informative number."
   ]
  },
  {
   "cell_type": "code",
   "execution_count": null,
   "metadata": {},
   "outputs": [],
   "source": []
  },
  {
   "cell_type": "markdown",
   "metadata": {},
   "source": [
    "## Paired samples t-test and Wilcoxon matched pairs\n",
    "\n",
    "### Theory: As linear models\n",
    "\n",
    "**t-test** model: a single number (intercept) predicts the pairwise differences.\n",
    "\n",
    "$y_2-y_1 = \\beta_0 \\qquad \\mathcal{H}_0: \\beta_0 = 0$\n",
    "\n",
    "This means that there is just one $y = y_2 - y_1$ to predict and it becomes a [one-sample t-test](#t1) on the pairwise differences. The visualization is therefore also the same as for the one-sample t-test. At the risk of overcomplicating a simple substraction, you can think of these pairwise differences as slopes (see left panel of the figure), which we can represent as y-offsets (see right panel of the figure):"
   ]
  },
  {
   "cell_type": "code",
   "execution_count": null,
   "metadata": {},
   "outputs": [],
   "source": []
  },
  {
   "cell_type": "markdown",
   "metadata": {},
   "source": [
    "Similarly, the **Wilcoxon matched pairs** only differ from **Wilcoxon signed-rank** in that it's testing the signed ranks of the pairwise $y_2-y_1$ differences.\n",
    "\n",
    "$\\text{signed_rank}(y_2-y_1) = \\beta_0 \\qquad \\mathcal{H}_0: \\beta_0 = 0$"
   ]
  },
  {
   "cell_type": "code",
   "execution_count": null,
   "metadata": {},
   "outputs": [],
   "source": []
  },
  {
   "cell_type": "markdown",
   "metadata": {},
   "source": [
    "### Python code: Paired sample t-test"
   ]
  },
  {
   "cell_type": "code",
   "execution_count": null,
   "metadata": {},
   "outputs": [],
   "source": []
  },
  {
   "cell_type": "markdown",
   "metadata": {},
   "source": [
    "### Python code: Wilcoxon matched pairs\n",
    "\n",
    "Again, we do the signed-ranks trick. This is still an approximation, but a close one:"
   ]
  },
  {
   "cell_type": "code",
   "execution_count": null,
   "metadata": {},
   "outputs": [],
   "source": []
  },
  {
   "cell_type": "markdown",
   "metadata": {},
   "source": [
    "For large sample sizes (N >> 100), this approaches the **sign test** to a reasonable degree, but this approximation is too inaccurate to flesh out here."
   ]
  },
  {
   "cell_type": "code",
   "execution_count": null,
   "metadata": {},
   "outputs": [],
   "source": []
  }
 ],
 "metadata": {
  "kernelspec": {
   "display_name": "Python 3",
   "language": "python",
   "name": "python3"
  },
  "language_info": {
   "codemirror_mode": {
    "name": "ipython",
    "version": 3
   },
   "file_extension": ".py",
   "mimetype": "text/x-python",
   "name": "python",
   "nbconvert_exporter": "python",
   "pygments_lexer": "ipython3",
   "version": "3.6.7"
  }
 },
 "nbformat": 4,
 "nbformat_minor": 2
}
