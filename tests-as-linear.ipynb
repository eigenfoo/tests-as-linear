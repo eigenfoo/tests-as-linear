{
 "cells": [
  {
   "cell_type": "markdown",
   "metadata": {},
   "source": [
    "# Common statistical tests are linear models (or: how to teach stats)\n",
    "\n",
    "Original post by Jonas Kristoffer Lindeløv ([blog](https://lindeloev.net), [profile](http://personprofil.aau.dk/117060)). Python port by George Ho ([blog](https://eigenfoo.xyz))."
   ]
  },
  {
   "cell_type": "code",
   "execution_count": 1,
   "metadata": {},
   "outputs": [
    {
     "data": {
      "text/markdown": [
       "Last updated: June 24, 2019"
      ],
      "text/plain": [
       "<IPython.core.display.Markdown object>"
      ]
     },
     "metadata": {},
     "output_type": "display_data"
    },
    {
     "data": {
      "text/markdown": [
       "# Table of contents\n",
       "- [Common statistical tests are linear models (or: how to teach stats)](#Common-statistical-tests-are-linear-models-(or:-how-to-teach-stats))\n",
       "- [1 The simplicity underlying common tests](#1-The-simplicity-underlying-common-tests)\n",
       "- [2 Settings and toy data](#2-Settings-and-toy-data)\n",
       "- [3 Pearson and Spearman correlation](#3-Pearson-and-Spearman-correlation)\n",
       "    - [3.0.1 Theory: As linear models](#3.0.1-Theory:-As-linear-models)\n",
       "    - [3.0.2 Theory: rank-transformation](#3.0.2-Theory:-rank-transformation)\n",
       "    - [3.0.3 Python code: Pearson correlation](#3.0.3-Python-code:-Pearson-correlation)\n",
       "    - [3.0.4 Python code: Spearman correlation](#3.0.4-Python-code:-Spearman-correlation)\n",
       "- [4 One mean](#4-One-mean)\n",
       "  - [4.1 One sample $t$-test and Wilcoxon signed-rank](#4.1-One-sample-$t$-test-and-Wilcoxon-signed-rank)\n",
       "    - [4.1.1 Theory: As linear models](#4.1.1-Theory:-As-linear-models)\n",
       "    - [4.1.2 Python code: One-sample $t$-test](#4.1.2-Python-code:-One-sample-$t$-test)\n",
       "    - [4.1.3 Python code: Wilcoxon signed-rank test](#4.1.3-Python-code:-Wilcoxon-signed-rank-test)\n",
       "  - [4.2 Paired samples $t$-test and Wilcoxon matched pairs](#4.2-Paired-samples-$t$-test-and-Wilcoxon-matched-pairs)\n",
       "    - [4.2.1 Theory: As linear models](#4.2.1-Theory:-As-linear-models)\n",
       "    - [4.2.2 Python code: Paired sample $t$-test](#4.2.2-Python-code:-Paired-sample-$t$-test)\n",
       "    - [4.2.3 Python code: Wilcoxon matched pairs](#4.2.3-Python-code:-Wilcoxon-matched-pairs)\n",
       "- [5 Two means](#5-Two-means)\n",
       "  - [5.1 Independent t-test and Mann-Whitney U](#5.1-Independent-t-test-and-Mann-Whitney-U)\n",
       "    - [5.1.1 Theory: As linear models](#5.1.1-Theory:-As-linear-models)\n",
       "    - [5.1.2 Theory: Dummy coding](#5.1.2-Theory:-Dummy-coding)\n",
       "    - [5.1.3 Theory: Dummy coding (continued)](#5.1.3-Theory:-Dummy-coding-(continued))\n",
       "    - [5.1.4 Python code: independent t-test](#5.1.4-Python-code:-independent-t-test)\n",
       "    - [5.1.5 Python code: Mann-Whitney U](#5.1.5-Python-code:-Mann-Whitney-U)\n",
       "  - [5.2 Welch’s t-test](#5.2-Welch’s-t-test)"
      ],
      "text/plain": [
       "<IPython.core.display.Markdown object>"
      ]
     },
     "metadata": {},
     "output_type": "display_data"
    }
   ],
   "source": [
    "from datetime import datetime\n",
    "from IPython.display import display, Markdown\n",
    "import utils\n",
    "display(Markdown(\"Last updated: {}\".format(datetime.now().strftime(\"%B %d, %Y\"))))\n",
    "display(Markdown(utils.generate_toc()))"
   ]
  },
  {
   "cell_type": "markdown",
   "metadata": {},
   "source": [
    "This document is summarised in the table below. It shows the linear models underlying common parametric and \"non-parametric\" tests. Formulating all the tests in the same language highlights the many similarities between them. Get it [as an image](linear_tests_cheat_sheet.png) or [as a PDF](linear_tests_cheat_sheet.pdf).\n",
    "\n",
    "---\n",
    "\n",
    "[![](linear_tests_cheat_sheet.png)](linear_tests_cheat_sheet.pdf)\n",
    "\n",
    "---\n",
    "\n",
    "# 1 The simplicity underlying common tests\n",
    "\n",
    "Most of the common statistical models ($t$-test, correlation, ANOVA, chi-square, etc.) are special cases of linear models, or a very close approximation. This beautiful simplicity means that there is less to learn. In particular, it all comes down to $y = a \\cdot x + b$ which most students know from high school. Unfortunately, introductory statistics courses are usually taught as if each test is an independent tool, needlessly making life more complicated for students and teachers alike. \n",
    "\n",
    "This needless complexity multiplies when students try to rote learn the parametric assumptions underlying each test separately rather than deducing them from the linear model.\n",
    "\n",
    "For this reason, I think that teaching linear models first and foremost and *then* name-dropping the special cases along the way makes for an excellent teaching strategy, emphasizing *understanding* over rote learning. Since linear models are the same across frequentist, Bayesian, and permutation-based inferences, I'd argue that it's better to start with modeling than p-values, type-1 errors, Bayes factors, or other inferences.\n",
    "\n",
    "Concerning the teaching of *\"non-parametric\"* tests in intro-courses, I think that we can justify [lying-to-children](https://en.wikipedia.org/wiki/Lie-to-children) and teach \"non-parametric\"\" tests as if they are merely ranked versions of the corresponding parametric tests. It is much better for students to think \"ranks!\" than to believe that you can magically throw away assumptions. Indeed, the Bayesian equivalents of \"non-parametric\"\" tests implemented in [JASP](https://jasp-stats.org) [literally just do (latent) ranking](https://arxiv.org/abs/1712.06941) and that's it. For the frequentist \"non-parametric\"\" tests considered here, this approach is highly accurate for N > 15.\n",
    "\n",
    "Use the menu to jump to your favourite section. There are links to lots of similar (though more scattered) stuff under [sources](#links) and [teaching materials](#course). I hope that you will join in suggesting improvements or submitting improvements yourself in [the Github repo to this page](https://github.com/lindeloev/tests-as-linear). Let's make it awesome!\n",
    "\n",
    "# 2 Settings and toy data"
   ]
  },
  {
   "cell_type": "code",
   "execution_count": 2,
   "metadata": {},
   "outputs": [],
   "source": [
    "import numpy as np\n",
    "import pandas as pd\n",
    "import scipy\n",
    "import statsmodels.formula.api as smf\n",
    "import matplotlib.pyplot as plt\n",
    "import plots\n",
    "np.random.seed(1618)  # Reproducible results\n",
    "plt.style.use('seaborn-whitegrid')"
   ]
  },
  {
   "cell_type": "code",
   "execution_count": 3,
   "metadata": {},
   "outputs": [
    {
     "data": {
      "text/html": [
       "<div>\n",
       "<style scoped>\n",
       "    .dataframe tbody tr th:only-of-type {\n",
       "        vertical-align: middle;\n",
       "    }\n",
       "\n",
       "    .dataframe tbody tr th {\n",
       "        vertical-align: top;\n",
       "    }\n",
       "\n",
       "    .dataframe thead th {\n",
       "        text-align: right;\n",
       "    }\n",
       "</style>\n",
       "<table border=\"1\" class=\"dataframe\">\n",
       "  <thead>\n",
       "    <tr style=\"text-align: right;\">\n",
       "      <th></th>\n",
       "      <th>x</th>\n",
       "      <th>y</th>\n",
       "    </tr>\n",
       "  </thead>\n",
       "  <tbody>\n",
       "    <tr>\n",
       "      <th>0</th>\n",
       "      <td>-0.290010</td>\n",
       "      <td>-0.084340</td>\n",
       "    </tr>\n",
       "    <tr>\n",
       "      <th>1</th>\n",
       "      <td>0.917701</td>\n",
       "      <td>1.039325</td>\n",
       "    </tr>\n",
       "    <tr>\n",
       "      <th>2</th>\n",
       "      <td>0.817674</td>\n",
       "      <td>0.899141</td>\n",
       "    </tr>\n",
       "    <tr>\n",
       "      <th>3</th>\n",
       "      <td>0.089775</td>\n",
       "      <td>0.335860</td>\n",
       "    </tr>\n",
       "    <tr>\n",
       "      <th>4</th>\n",
       "      <td>0.300801</td>\n",
       "      <td>0.467720</td>\n",
       "    </tr>\n",
       "  </tbody>\n",
       "</table>\n",
       "</div>"
      ],
      "text/plain": [
       "          x         y\n",
       "0 -0.290010 -0.084340\n",
       "1  0.917701  1.039325\n",
       "2  0.817674  0.899141\n",
       "3  0.089775  0.335860\n",
       "4  0.300801  0.467720"
      ]
     },
     "execution_count": 3,
     "metadata": {},
     "output_type": "execute_result"
    }
   ],
   "source": [
    "# Correlated data with fixed correlation\n",
    "correlated_data = pd.DataFrame()\n",
    "correlated_data[\"x\"] = np.random.normal(0.5, 0.5, 20)\n",
    "correlated_data[\"y\"] = 0.9 * correlated_data[\"x\"] + 0.2 + 0.1*np.random.randn(20)\n",
    "\n",
    "correlated_data.head()"
   ]
  },
  {
   "cell_type": "code",
   "execution_count": 4,
   "metadata": {},
   "outputs": [
    {
     "data": {
      "text/html": [
       "<div>\n",
       "<style scoped>\n",
       "    .dataframe tbody tr th:only-of-type {\n",
       "        vertical-align: middle;\n",
       "    }\n",
       "\n",
       "    .dataframe tbody tr th {\n",
       "        vertical-align: top;\n",
       "    }\n",
       "\n",
       "    .dataframe thead th {\n",
       "        text-align: right;\n",
       "    }\n",
       "</style>\n",
       "<table border=\"1\" class=\"dataframe\">\n",
       "  <thead>\n",
       "    <tr style=\"text-align: right;\">\n",
       "      <th></th>\n",
       "      <th>x</th>\n",
       "      <th>y</th>\n",
       "      <th>y2</th>\n",
       "      <th>y_sub_y2</th>\n",
       "    </tr>\n",
       "  </thead>\n",
       "  <tbody>\n",
       "    <tr>\n",
       "      <th>0</th>\n",
       "      <td>0.370360</td>\n",
       "      <td>0.634343</td>\n",
       "      <td>-0.111973</td>\n",
       "      <td>0.746316</td>\n",
       "    </tr>\n",
       "    <tr>\n",
       "      <th>1</th>\n",
       "      <td>-1.403470</td>\n",
       "      <td>-0.556456</td>\n",
       "      <td>-0.304594</td>\n",
       "      <td>-0.251862</td>\n",
       "    </tr>\n",
       "    <tr>\n",
       "      <th>2</th>\n",
       "      <td>0.006593</td>\n",
       "      <td>-0.183445</td>\n",
       "      <td>0.216582</td>\n",
       "      <td>-0.400027</td>\n",
       "    </tr>\n",
       "    <tr>\n",
       "      <th>3</th>\n",
       "      <td>-1.242953</td>\n",
       "      <td>-0.274897</td>\n",
       "      <td>0.194504</td>\n",
       "      <td>-0.469401</td>\n",
       "    </tr>\n",
       "    <tr>\n",
       "      <th>4</th>\n",
       "      <td>-0.504203</td>\n",
       "      <td>-0.639618</td>\n",
       "      <td>1.453154</td>\n",
       "      <td>-2.092772</td>\n",
       "    </tr>\n",
       "  </tbody>\n",
       "</table>\n",
       "</div>"
      ],
      "text/plain": [
       "          x         y        y2  y_sub_y2\n",
       "0  0.370360  0.634343 -0.111973  0.746316\n",
       "1 -1.403470 -0.556456 -0.304594 -0.251862\n",
       "2  0.006593 -0.183445  0.216582 -0.400027\n",
       "3 -1.242953 -0.274897  0.194504 -0.469401\n",
       "4 -0.504203 -0.639618  1.453154 -2.092772"
      ]
     },
     "execution_count": 4,
     "metadata": {},
     "output_type": "execute_result"
    }
   ],
   "source": [
    "data = pd.DataFrame()\n",
    "data[\"x\"] = np.random.normal(loc=0.0, scale=1.0, size=50)  # Used in correlation where this is on x-axis\n",
    "data[\"y\"] = np.random.normal(loc=0.2, scale=1.0, size=50)  # Almost zero mean\n",
    "data[\"y2\"] = np.random.normal(loc=0.5, scale=1.0, size=50)  # Used in two means\n",
    "data[\"y_sub_y2\"] = data[\"y\"] - data[\"y2\"]\n",
    "\n",
    "data.head()"
   ]
  },
  {
   "cell_type": "markdown",
   "metadata": {},
   "source": [
    "# 3 Pearson and Spearman correlation\n",
    "\n",
    "### 3.0.1 Theory: As linear models \n",
    "\n",
    "Model: the recipe for $y$ is a slope ($\\beta_1$) times $x$ plus an intercept ($\\beta_0$, aka a straight line).\n",
    "\n",
    "$y = \\beta_0 + \\beta_1 x \\qquad \\mathcal{H}_0: \\beta_1 = 0$\n",
    "\n",
    "... which is a math-y way of writing the good old $y = ax + b$ (here ordered as $y = b + ax$). Using `patsy` lets us be a bit lazier and write `y ~ 1 + x` which reads like `y = 1*number + x*othernumber`. and the task of linear models is simply to find the numbers that best predict `y`.\n",
    "\n",
    "Either way you write it, it's an intercept ($\\beta_0$) and a slope ($\\beta_1$) yielding a straight line:"
   ]
  },
  {
   "cell_type": "code",
   "execution_count": 5,
   "metadata": {},
   "outputs": [],
   "source": [
    "res = smf.ols(formula=\"y ~ 1 + x\", data=correlated_data).fit()\n",
    "intercept, slope = res.params"
   ]
  },
  {
   "cell_type": "code",
   "execution_count": 6,
   "metadata": {},
   "outputs": [
    {
     "data": {
      "image/png": "[encoded data removed]",
      "text/plain": [
       "<Figure size 720x576 with 1 Axes>"
      ]
     },
     "metadata": {
      "needs_background": "light"
     },
     "output_type": "display_data"
    }
   ],
   "source": [
    "plots.linear_regression_plot(correlated_data, intercept, slope)\n",
    "plt.show()"
   ]
  },
  {
   "cell_type": "markdown",
   "metadata": {},
   "source": [
    "This is often simply called a **regression** model which can be extended to **multiple regression** where there are several $\\beta$s and on the right-hand side multiplied with the predictors. Everything below, from [one-sample $t$-test](#t1) to [two-way ANOVA](#anova2) are just special cases of this system. Nothing more, nothing less.\n",
    "\n",
    "As the name implies, the **Spearman rank correlation** is a **Pearson correlation** on rank-transformed $x$ and $y$:\n",
    "\n",
    "$\\text{rank}(y) = \\beta_0 + \\beta_1 \\cdot \\text{rank}(x) \\qquad \\mathcal{H}_0: \\beta_1 = 0$\n",
    "\n",
    "I'll introduce [ranks](#Theory:-rank-transformation) in a minute. For now, notice that the correlation coefficient of the linear model is identical to a \"real\" Pearson correlation, but p-values are an approximation which is is [appropriate for samples greater than N=10 and almost perfect when N > 20](simulations/simulate_spearman.html).\n",
    "\n",
    "Such a nice and non-mysterious equivalence that many students are left unaware of! Visualizing them side by side including data labels, we see this rank-transformation in action:"
   ]
  },
  {
   "cell_type": "code",
   "execution_count": 7,
   "metadata": {},
   "outputs": [],
   "source": [
    "ranked_data = np.argsort(correlated_data, axis=0)\n",
    "res = smf.ols(formula=\"y ~ 1 + x\", data=ranked_data).fit()\n",
    "intercept_spearman, slope_spearman = res.params"
   ]
  },
  {
   "cell_type": "code",
   "execution_count": 8,
   "metadata": {},
   "outputs": [
    {
     "data": {
      "image/png": "[encoded data removed]",
      "text/plain": [
       "<Figure size 1296x576 with 2 Axes>"
      ]
     },
     "metadata": {
      "needs_background": "light"
     },
     "output_type": "display_data"
    }
   ],
   "source": [
    "plots.pearson_spearman_plot(correlated_data, ranked_data, slope, slope_spearman, intercept, intercept_spearman)\n",
    "plt.show()"
   ]
  },
  {
   "cell_type": "markdown",
   "metadata": {},
   "source": [
    "### 3.0.2 Theory: rank-transformation\n",
    "\n",
    "`np.argsort` simply takes a list of numbers and \"replaces\" them with the integers of their rank (1st smallest, 2nd smallest, 3rd smallest, etc.). So the result of the rank-transformation `np.argsort([3.6, 3.4, -5.0, 8.2])` is `[3, 2, 1, 4]`. See that in the figure above? \n",
    "\n",
    "A *signed* rank is the same, just where we rank according to absolute size first and then add in the sign second. So the signed rank here would be `[2, 1, -3, 4]`. Or in code:"
   ]
  },
  {
   "cell_type": "code",
   "execution_count": 9,
   "metadata": {},
   "outputs": [],
   "source": [
    "def signed_rank(x, axis=-1):\n",
    "    return np.sign(x) * np.argsort(x, axis=axis)"
   ]
  },
  {
   "cell_type": "markdown",
   "metadata": {},
   "source": [
    "I hope I don't offend anyone when I say that ranks are easy; yet it's all you need to do to convert most parametric tests into their \"non-parametric\" counterparts! One interesting implication is that *many \"non-parametric tests\" are about as parametric as their parametric counterparts with means, standard deviations, homogeneity of variance, etc. - just on rank-transformed data*. That's why I put \"non-parametric\" in quotation marks.\n",
    "\n",
    "### 3.0.3 Python code: Pearson correlation\n",
    "\n",
    "It couldn't be much simpler to run these models with `statsmodels` ([`smf.ols`](https://www.statsmodels.org/stable/example_formulas.html#ols-regression-using-formulas)) or `scipy` ([`scipy.stats.pearson`](https://docs.scipy.org/doc/scipy/reference/generated/scipy.stats.pearsonr.html)). They yield identical slopes, `p` and `t` values, but there's a catch: `smf.ols` gives you the *slope* and even though that is usually much more interpretable and informative than the _correlation coefficient_ $r$, you may still want $r$. Luckily, the slope becomes $r$ if `x` and `y` have a standard deviation of exactly 1. You can do this by scaling the data: `data /= data.std()`."
   ]
  },
  {
   "cell_type": "code",
   "execution_count": 10,
   "metadata": {},
   "outputs": [],
   "source": [
    "scaled_data = correlated_data / correlated_data.std()\n",
    "\n",
    "res1 = smf.ols(formula=\"y ~ 1 + x\", data=correlated_data).fit()\n",
    "res2 = smf.ols(formula=\"y ~ 1 + x\", data=scaled_data).fit()\n",
    "r, p = scipy.stats.pearsonr(correlated_data[\"x\"], correlated_data[\"y\"])"
   ]
  },
  {
   "cell_type": "code",
   "execution_count": 11,
   "metadata": {},
   "outputs": [
    {
     "data": {
      "text/html": [
       "<div>\n",
       "<style scoped>\n",
       "    .dataframe tbody tr th:only-of-type {\n",
       "        vertical-align: middle;\n",
       "    }\n",
       "\n",
       "    .dataframe tbody tr th {\n",
       "        vertical-align: top;\n",
       "    }\n",
       "\n",
       "    .dataframe thead th {\n",
       "        text-align: right;\n",
       "    }\n",
       "</style>\n",
       "<table border=\"1\" class=\"dataframe\">\n",
       "  <thead>\n",
       "    <tr style=\"text-align: right;\">\n",
       "      <th></th>\n",
       "      <th>value</th>\n",
       "      <th>p-values</th>\n",
       "      <th>t-values</th>\n",
       "      <th>0.025 CI</th>\n",
       "      <th>0.975 CI</th>\n",
       "    </tr>\n",
       "  </thead>\n",
       "  <tbody>\n",
       "    <tr>\n",
       "      <th>scipy.stats.pearsonr</th>\n",
       "      <td>0.981042</td>\n",
       "      <td>2.804604e-14</td>\n",
       "      <td>NaN</td>\n",
       "      <td>NaN</td>\n",
       "      <td>NaN</td>\n",
       "    </tr>\n",
       "    <tr>\n",
       "      <th>smf.ols</th>\n",
       "      <td>0.861270</td>\n",
       "      <td>2.804604e-14</td>\n",
       "      <td>21.47749</td>\n",
       "      <td>0.777021</td>\n",
       "      <td>0.945520</td>\n",
       "    </tr>\n",
       "    <tr>\n",
       "      <th>smf.ols (scaled)</th>\n",
       "      <td>0.981042</td>\n",
       "      <td>2.804604e-14</td>\n",
       "      <td>21.47749</td>\n",
       "      <td>0.885077</td>\n",
       "      <td>1.077008</td>\n",
       "    </tr>\n",
       "  </tbody>\n",
       "</table>\n",
       "</div>"
      ],
      "text/plain": [
       "                         value      p-values  t-values  0.025 CI  0.975 CI\n",
       "scipy.stats.pearsonr  0.981042  2.804604e-14       NaN       NaN       NaN\n",
       "smf.ols               0.861270  2.804604e-14  21.47749  0.777021  0.945520\n",
       "smf.ols (scaled)      0.981042  2.804604e-14  21.47749  0.885077  1.077008"
      ]
     },
     "execution_count": 11,
     "metadata": {},
     "output_type": "execute_result"
    }
   ],
   "source": [
    "utils.tabulate_results([r, p, None, None, None],\n",
    "                       [res1, res2],\n",
    "                       [\"scipy.stats.pearsonr\", \"smf.ols\", \"smf.ols (scaled)\"])"
   ]
  },
  {
   "cell_type": "markdown",
   "metadata": {},
   "source": [
    "Notice how scipy.stats and smf.ols (scaled) have the same values.\n",
    "\n",
    "### 3.0.4 Python code: Spearman correlation\n",
    "\n",
    "Note that we can interpret the slope which is the number of ranks $y$ change for each rank on $x$. I think that this is a pretty interesting number. However, the intercept is less interpretable since it lies at $\\text{rank}(x) = 0$ which is impossible since x starts at 1.\n",
    "\n",
    "See the identical `r` (now \"rho\") and `p`:"
   ]
  },
  {
   "cell_type": "code",
   "execution_count": 12,
   "metadata": {},
   "outputs": [],
   "source": [
    "ranked_data = np.argsort(correlated_data, axis=0)\n",
    "\n",
    "res = smf.ols(formula=\"y ~ 1 + x\", data=ranked_data).fit()\n",
    "r, p = scipy.stats.spearmanr(ranked_data[\"x\"], ranked_data[\"y\"])"
   ]
  },
  {
   "cell_type": "code",
   "execution_count": 13,
   "metadata": {},
   "outputs": [
    {
     "data": {
      "text/html": [
       "<div>\n",
       "<style scoped>\n",
       "    .dataframe tbody tr th:only-of-type {\n",
       "        vertical-align: middle;\n",
       "    }\n",
       "\n",
       "    .dataframe tbody tr th {\n",
       "        vertical-align: top;\n",
       "    }\n",
       "\n",
       "    .dataframe thead th {\n",
       "        text-align: right;\n",
       "    }\n",
       "</style>\n",
       "<table border=\"1\" class=\"dataframe\">\n",
       "  <thead>\n",
       "    <tr style=\"text-align: right;\">\n",
       "      <th></th>\n",
       "      <th>value</th>\n",
       "      <th>p-values</th>\n",
       "      <th>t-values</th>\n",
       "      <th>0.025 CI</th>\n",
       "      <th>0.975 CI</th>\n",
       "    </tr>\n",
       "  </thead>\n",
       "  <tbody>\n",
       "    <tr>\n",
       "      <th>scipy.stats.spearmanr</th>\n",
       "      <td>0.566917</td>\n",
       "      <td>0.009146</td>\n",
       "      <td>NaN</td>\n",
       "      <td>NaN</td>\n",
       "      <td>NaN</td>\n",
       "    </tr>\n",
       "    <tr>\n",
       "      <th>smf.ols (ranked)</th>\n",
       "      <td>0.566917</td>\n",
       "      <td>0.009146</td>\n",
       "      <td>2.919762</td>\n",
       "      <td>0.158991</td>\n",
       "      <td>0.974844</td>\n",
       "    </tr>\n",
       "  </tbody>\n",
       "</table>\n",
       "</div>"
      ],
      "text/plain": [
       "                          value  p-values  t-values  0.025 CI  0.975 CI\n",
       "scipy.stats.spearmanr  0.566917  0.009146       NaN       NaN       NaN\n",
       "smf.ols (ranked)       0.566917  0.009146  2.919762  0.158991  0.974844"
      ]
     },
     "execution_count": 13,
     "metadata": {},
     "output_type": "execute_result"
    }
   ],
   "source": [
    "utils.tabulate_results([r, p, None, None, None],\n",
    "                       res,\n",
    "                       [\"scipy.stats.spearmanr\", \"smf.ols (ranked)\"])"
   ]
  },
  {
   "cell_type": "markdown",
   "metadata": {},
   "source": [
    "# 4 One mean\n",
    "\n",
    "## 4.1 One sample $t$-test and Wilcoxon signed-rank\n",
    "\n",
    "### 4.1.1 Theory: As linear models\n",
    "\n",
    "**$t$-test** model: A single number predicts $y$.\n",
    "\n",
    "$y = \\beta_0 \\qquad \\mathcal{H}_0: \\beta_0 = 0$\n",
    "\n",
    "In other words, it's our good old $y = \\beta_0 + \\beta_1*x$ where the last term is gone since there is no $x$ (essentially $x=0$, see left figure below).\n",
    "\n",
    "The same is to a very close approximately true for **Wilcoxon signed-rank test**, just with the [signed ranks](#rank) of $y$ instead of $y$ itself (see right panel below).\n",
    "\n",
    "$\\text{signed_rank}(y) = \\beta_0$\n",
    "\n",
    "[This approximation is good enough when the sample size is larger than 14 and almost perfect if the sample size is larger than 50](simulations/simulate_wilcoxon.html)."
   ]
  },
  {
   "cell_type": "code",
   "execution_count": 14,
   "metadata": {},
   "outputs": [],
   "source": [
    "signed_rank_correlated_data = signed_rank(correlated_data, axis=0)\n",
    "res = smf.ols(formula=\"y ~ 1\", data=signed_rank_correlated_data).fit()\n",
    "intercept_wilcoxon = res.params.Intercept"
   ]
  },
  {
   "cell_type": "code",
   "execution_count": 15,
   "metadata": {},
   "outputs": [
    {
     "data": {
      "image/png": "[encoded data removed]",
      "text/plain": [
       "<Figure size 1296x576 with 2 Axes>"
      ]
     },
     "metadata": {
      "needs_background": "light"
     },
     "output_type": "display_data"
    }
   ],
   "source": [
    "plots.ttest_wilcoxon_plot(correlated_data, intercept, intercept_wilcoxon)\n",
    "plt.show()"
   ]
  },
  {
   "cell_type": "markdown",
   "metadata": {},
   "source": [
    "### 4.1.2 Python code: One-sample $t$-test\n",
    "\n",
    "Try running the R code below and see that the linear model (`lm`) produces the same $t$, $p$, and $r$ as the built-in `t.test`. The confidence interval is not presented in the output of `lm` but is also identical if you use `confint(lm(...))`:"
   ]
  },
  {
   "cell_type": "code",
   "execution_count": 16,
   "metadata": {},
   "outputs": [],
   "source": [
    "t, p = scipy.stats.ttest_1samp(data.y, 0)\n",
    "res = smf.ols(formula=\"y ~ 1\", data=data).fit()  # Equivalent linear model: intercept-only"
   ]
  },
  {
   "cell_type": "code",
   "execution_count": 17,
   "metadata": {},
   "outputs": [
    {
     "data": {
      "text/html": [
       "<div>\n",
       "<style scoped>\n",
       "    .dataframe tbody tr th:only-of-type {\n",
       "        vertical-align: middle;\n",
       "    }\n",
       "\n",
       "    .dataframe tbody tr th {\n",
       "        vertical-align: top;\n",
       "    }\n",
       "\n",
       "    .dataframe thead th {\n",
       "        text-align: right;\n",
       "    }\n",
       "</style>\n",
       "<table border=\"1\" class=\"dataframe\">\n",
       "  <thead>\n",
       "    <tr style=\"text-align: right;\">\n",
       "      <th></th>\n",
       "      <th>value</th>\n",
       "      <th>p-values</th>\n",
       "      <th>t-values</th>\n",
       "      <th>0.025 CI</th>\n",
       "      <th>0.975 CI</th>\n",
       "    </tr>\n",
       "  </thead>\n",
       "  <tbody>\n",
       "    <tr>\n",
       "      <th>scipy.stats.ttest_1samp</th>\n",
       "      <td>NaN</td>\n",
       "      <td>0.882318</td>\n",
       "      <td>0.148805</td>\n",
       "      <td>NaN</td>\n",
       "      <td>NaN</td>\n",
       "    </tr>\n",
       "    <tr>\n",
       "      <th>smf.ols (y ~ 1)</th>\n",
       "      <td>0.019429</td>\n",
       "      <td>0.882318</td>\n",
       "      <td>0.148805</td>\n",
       "      <td>-0.242953</td>\n",
       "      <td>0.281811</td>\n",
       "    </tr>\n",
       "  </tbody>\n",
       "</table>\n",
       "</div>"
      ],
      "text/plain": [
       "                            value  p-values  t-values  0.025 CI  0.975 CI\n",
       "scipy.stats.ttest_1samp       NaN  0.882318  0.148805       NaN       NaN\n",
       "smf.ols (y ~ 1)          0.019429  0.882318  0.148805 -0.242953  0.281811"
      ]
     },
     "execution_count": 17,
     "metadata": {},
     "output_type": "execute_result"
    }
   ],
   "source": [
    "utils.tabulate_results([None, p, t, None, None],\n",
    "                       res,\n",
    "                       [\"scipy.stats.ttest_1samp\", \"smf.ols (y ~ 1)\"],\n",
    "                       x=False)"
   ]
  },
  {
   "cell_type": "markdown",
   "metadata": {},
   "source": [
    "### 4.1.3 Python code: Wilcoxon signed-rank test\n",
    "\n",
    "In addition to matching `p`-values, `lm` also gives us the mean signed rank, which I find to be an informative number."
   ]
  },
  {
   "cell_type": "code",
   "execution_count": 18,
   "metadata": {},
   "outputs": [],
   "source": [
    "signed_rank_data = signed_rank(data, axis=0)\n",
    "\n",
    "# FIXME disagreement?\n",
    "_, p = scipy.stats.wilcoxon(data.y)\n",
    "res = smf.ols(\"y ~ 1\", data=signed_rank_data).fit()"
   ]
  },
  {
   "cell_type": "code",
   "execution_count": 19,
   "metadata": {},
   "outputs": [
    {
     "data": {
      "text/html": [
       "<div>\n",
       "<style scoped>\n",
       "    .dataframe tbody tr th:only-of-type {\n",
       "        vertical-align: middle;\n",
       "    }\n",
       "\n",
       "    .dataframe tbody tr th {\n",
       "        vertical-align: top;\n",
       "    }\n",
       "\n",
       "    .dataframe thead th {\n",
       "        text-align: right;\n",
       "    }\n",
       "</style>\n",
       "<table border=\"1\" class=\"dataframe\">\n",
       "  <thead>\n",
       "    <tr style=\"text-align: right;\">\n",
       "      <th></th>\n",
       "      <th>value</th>\n",
       "      <th>p-values</th>\n",
       "      <th>t-values</th>\n",
       "      <th>0.025 CI</th>\n",
       "      <th>0.975 CI</th>\n",
       "    </tr>\n",
       "  </thead>\n",
       "  <tbody>\n",
       "    <tr>\n",
       "      <th>scipy.stats.wilcoxon</th>\n",
       "      <td>NaN</td>\n",
       "      <td>0.942284</td>\n",
       "      <td>NaN</td>\n",
       "      <td>NaN</td>\n",
       "      <td>NaN</td>\n",
       "    </tr>\n",
       "    <tr>\n",
       "      <th>smf.ols (y ~ 1, signed rank)</th>\n",
       "      <td>-2.78</td>\n",
       "      <td>0.494895</td>\n",
       "      <td>-0.687683</td>\n",
       "      <td>-10.903825</td>\n",
       "      <td>5.343825</td>\n",
       "    </tr>\n",
       "  </tbody>\n",
       "</table>\n",
       "</div>"
      ],
      "text/plain": [
       "                              value  p-values  t-values   0.025 CI  0.975 CI\n",
       "scipy.stats.wilcoxon            NaN  0.942284       NaN        NaN       NaN\n",
       "smf.ols (y ~ 1, signed rank)  -2.78  0.494895 -0.687683 -10.903825  5.343825"
      ]
     },
     "execution_count": 19,
     "metadata": {},
     "output_type": "execute_result"
    }
   ],
   "source": [
    "utils.tabulate_results([None, p, None, None, None],\n",
    "                       res,\n",
    "                       [\"scipy.stats.wilcoxon\", \"smf.ols (y ~ 1, signed rank)\"],\n",
    "                       x=False)"
   ]
  },
  {
   "cell_type": "markdown",
   "metadata": {},
   "source": [
    "## 4.2 Paired samples $t$-test and Wilcoxon matched pairs\n",
    "\n",
    "### 4.2.1 Theory: As linear models\n",
    "\n",
    "**$t$-test** model: a single number (intercept) predicts the pairwise differences.\n",
    "\n",
    "$y_2-y_1 = \\beta_0 \\qquad \\mathcal{H}_0: \\beta_0 = 0$\n",
    "\n",
    "This means that there is just one $y = y_2 - y_1$ to predict and it becomes a [one-sample $t$-test](#t1) on the pairwise differences. The visualization is therefore also the same as for the one-sample $t$-test. At the risk of overcomplicating a simple substraction, you can think of these pairwise differences as slopes (see left panel of the figure), which we can represent as y-offsets (see right panel of the figure):"
   ]
  },
  {
   "cell_type": "code",
   "execution_count": 20,
   "metadata": {},
   "outputs": [],
   "source": [
    "# TODO"
   ]
  },
  {
   "cell_type": "markdown",
   "metadata": {},
   "source": [
    "Similarly, the **Wilcoxon matched pairs** only differ from **Wilcoxon signed-rank** in that it's testing the signed ranks of the pairwise $y_2-y_1$ differences.\n",
    "\n",
    "$\\text{signed_rank}(y_2-y_1) = \\beta_0 \\qquad \\mathcal{H}_0: \\beta_0 = 0$"
   ]
  },
  {
   "cell_type": "markdown",
   "metadata": {},
   "source": [
    "### 4.2.2 Python code: Paired sample $t$-test"
   ]
  },
  {
   "cell_type": "code",
   "execution_count": 21,
   "metadata": {},
   "outputs": [],
   "source": [
    "t, p = scipy.stats.ttest_ind(data.y, data.y2)\n",
    "res = smf.ols(formula=\"y_sub_y2 ~ 1\", data=data).fit()"
   ]
  },
  {
   "cell_type": "code",
   "execution_count": 22,
   "metadata": {},
   "outputs": [
    {
     "data": {
      "text/html": [
       "<div>\n",
       "<style scoped>\n",
       "    .dataframe tbody tr th:only-of-type {\n",
       "        vertical-align: middle;\n",
       "    }\n",
       "\n",
       "    .dataframe tbody tr th {\n",
       "        vertical-align: top;\n",
       "    }\n",
       "\n",
       "    .dataframe thead th {\n",
       "        text-align: right;\n",
       "    }\n",
       "</style>\n",
       "<table border=\"1\" class=\"dataframe\">\n",
       "  <thead>\n",
       "    <tr style=\"text-align: right;\">\n",
       "      <th></th>\n",
       "      <th>value</th>\n",
       "      <th>p-values</th>\n",
       "      <th>t-values</th>\n",
       "      <th>0.025 CI</th>\n",
       "      <th>0.975 CI</th>\n",
       "    </tr>\n",
       "  </thead>\n",
       "  <tbody>\n",
       "    <tr>\n",
       "      <th>scipy.stats.ttest_ind</th>\n",
       "      <td>NaN</td>\n",
       "      <td>0.119175</td>\n",
       "      <td>-1.571994</td>\n",
       "      <td>NaN</td>\n",
       "      <td>NaN</td>\n",
       "    </tr>\n",
       "    <tr>\n",
       "      <th>smf.ols (y_sub_y2 ~ 1)</th>\n",
       "      <td>-0.278406</td>\n",
       "      <td>0.075029</td>\n",
       "      <td>-1.818975</td>\n",
       "      <td>-0.585985</td>\n",
       "      <td>0.029173</td>\n",
       "    </tr>\n",
       "  </tbody>\n",
       "</table>\n",
       "</div>"
      ],
      "text/plain": [
       "                           value  p-values  t-values  0.025 CI  0.975 CI\n",
       "scipy.stats.ttest_ind        NaN  0.119175 -1.571994       NaN       NaN\n",
       "smf.ols (y_sub_y2 ~ 1) -0.278406  0.075029 -1.818975 -0.585985  0.029173"
      ]
     },
     "execution_count": 22,
     "metadata": {},
     "output_type": "execute_result"
    }
   ],
   "source": [
    "utils.tabulate_results([None, p, t, None, None],\n",
    "                       res,\n",
    "                       [\"scipy.stats.ttest_ind\", \"smf.ols (y_sub_y2 ~ 1)\"],\n",
    "                       x=False)"
   ]
  },
  {
   "cell_type": "markdown",
   "metadata": {},
   "source": [
    "### 4.2.3 Python code: Wilcoxon matched pairs\n",
    "\n",
    "Again, we do the signed-ranks trick. This is still an approximation, but a close one:"
   ]
  },
  {
   "cell_type": "code",
   "execution_count": 23,
   "metadata": {},
   "outputs": [],
   "source": [
    "# FIXME disagreement?\n",
    "_, p = scipy.stats.wilcoxon(data.y, data.y2)\n",
    "res = smf.ols(formula=\"y_sub_y2 ~ 1\", data=signed_rank_data).fit()"
   ]
  },
  {
   "cell_type": "code",
   "execution_count": 24,
   "metadata": {},
   "outputs": [
    {
     "data": {
      "text/html": [
       "<div>\n",
       "<style scoped>\n",
       "    .dataframe tbody tr th:only-of-type {\n",
       "        vertical-align: middle;\n",
       "    }\n",
       "\n",
       "    .dataframe tbody tr th {\n",
       "        vertical-align: top;\n",
       "    }\n",
       "\n",
       "    .dataframe thead th {\n",
       "        text-align: right;\n",
       "    }\n",
       "</style>\n",
       "<table border=\"1\" class=\"dataframe\">\n",
       "  <thead>\n",
       "    <tr style=\"text-align: right;\">\n",
       "      <th></th>\n",
       "      <th>value</th>\n",
       "      <th>p-values</th>\n",
       "      <th>t-values</th>\n",
       "      <th>0.025 CI</th>\n",
       "      <th>0.975 CI</th>\n",
       "    </tr>\n",
       "  </thead>\n",
       "  <tbody>\n",
       "    <tr>\n",
       "      <th>scipy.stats.wilcoxon</th>\n",
       "      <td>NaN</td>\n",
       "      <td>0.071808</td>\n",
       "      <td>NaN</td>\n",
       "      <td>NaN</td>\n",
       "      <td>NaN</td>\n",
       "    </tr>\n",
       "    <tr>\n",
       "      <th>smf.ols (y_sub_y2 ~ 1)</th>\n",
       "      <td>-5.18</td>\n",
       "      <td>0.200729</td>\n",
       "      <td>-1.296931</td>\n",
       "      <td>-13.206335</td>\n",
       "      <td>2.846335</td>\n",
       "    </tr>\n",
       "  </tbody>\n",
       "</table>\n",
       "</div>"
      ],
      "text/plain": [
       "                        value  p-values  t-values   0.025 CI  0.975 CI\n",
       "scipy.stats.wilcoxon      NaN  0.071808       NaN        NaN       NaN\n",
       "smf.ols (y_sub_y2 ~ 1)  -5.18  0.200729 -1.296931 -13.206335  2.846335"
      ]
     },
     "execution_count": 24,
     "metadata": {},
     "output_type": "execute_result"
    }
   ],
   "source": [
    "utils.tabulate_results([None, p, None, None, None],\n",
    "                       res,\n",
    "                       [\"scipy.stats.wilcoxon\", \"smf.ols (y_sub_y2 ~ 1)\"],\n",
    "                       x=False)"
   ]
  },
  {
   "cell_type": "markdown",
   "metadata": {},
   "source": [
    "For large sample sizes (N >> 100), this approaches the **sign test** to a reasonable degree, but this approximation is too inaccurate to flesh out here.\n",
    "\n",
    "# 5 Two means\n",
    "\n",
    "## 5.1 Independent t-test and Mann-Whitney U\n",
    "\n",
    "### 5.1.1 Theory: As linear models\n",
    "\n",
    "Independent t-test model: two means predict $y$.\n",
    "\n",
    "$y_i = \\beta_0 + \\beta_1 x_i \\qquad \\mathcal{H}_0: \\beta_1 = 0$\n",
    "\n",
    "where $x_i$ is an indicator (0 or 1) saying whether data point $i$ was sampled from one or the other group. [Indicator variables (also called \"dummy coding\")](https://en.wikipedia.org/wiki/Dummy_variable_(statistics)) underly a lot of linear models and we'll take an aside to see how it works in a minute.\n",
    "\n",
    "**Mann-Whitney U** (also known as **Wilcoxon rank-sum test** for two independent groups; no *signed* rank this time) is the same model to a very close approximation, just on the ranks of $x$ and $y$ instead of the actual values:\n",
    "\n",
    "$\\text{rank}(y_i) = \\beta_0 + \\beta_1 x_i \\qquad \\mathcal{H}_0: \\beta_1 = 0$\n",
    "\n",
    "To me, equivalences like this make \"non-parametric\" statistics much easier to understand. The approximation is appropriate [when the sample size is larger than 11 in each group and virtually perfect when N > 30 in each group](simulations/simulate_mannwhitney.html).\n",
    "\n",
    "### 5.1.2 Theory: Dummy coding\n",
    "\n",
    "Dummy coding can be understood visually. The indicator is on the x-axis so data points from the first group are located at $x = 0$ and data points from the second group is located at $x = 1$. Then $\\beta_0$ is the intercept (blue line) and $\\beta_1$ is the slope between the two means (red line). Why? Because when $\\Delta x = 1$ the slope equals the difference because:\n",
    "\n",
    "$\\text{slope} = \\Delta y / \\Delta x = \\Delta y / 1 = \\Delta y = \\text{difference}$\n",
    "\n",
    "Magic! Even categorical differences can be modelled using linear models! It's a true Swiss army knife."
   ]
  },
  {
   "cell_type": "code",
   "execution_count": 25,
   "metadata": {},
   "outputs": [],
   "source": [
    "# TODO"
   ]
  },
  {
   "cell_type": "markdown",
   "metadata": {},
   "source": [
    "### 5.1.3 Theory: Dummy coding (continued)\n",
    "\n",
    "If you feel like you get dummy coding now, just skip ahead to the next section. Here is a more elaborate explanation of dummy coding:\n",
    "\n",
    "If a data point was sampled from the first group, i.e., when $x_i = 0$, the model simply becomes $y = \\beta_0 + \\beta_1 \\cdot 0 = \\beta_0$. In other words, the model predicts that that data point is $beta_0$. It turns out that the $\\beta$ which best predicts a set of data points is the *mean* of those data points, so $\\beta_0$ is the mean of group 1.\n",
    "\n",
    "On the other hand, data points sampled from the second group would have $x_i = 1$ so the model becomes $y_i = \\beta_0 + \\beta_1\\cdot 1 = \\beta_0 + \\beta_1$. In other words, we add $\\beta_1$ to \"shift\" from the mean of the first group to the mean of the second group. Thus $\\beta_1$ becomes the *mean difference* between the groups.\n",
    "\n",
    "As an example, say group 1 is 25 years old ($\\beta_0 = 25$) and group 2 is 28 years old ($\\beta_1 = 3$), then the model for a person in group 1 is $y = 25 + 3 \\cdot 0 = 25$ and the model for a person in group 2 is $y = 25 + 3 \\cdot 1 = 28$. \n",
    "\n",
    "Hooray, it works! For first-timers it takes a few moments to understand dummy coding, but you only need to know addition and multiplication to get there!\n",
    "\n",
    "### 5.1.4 Python code: independent t-test\n",
    "\n",
    "As a reminder, when we write `y ~ 1 + x` in R, it is shorthand for $y = \\beta_0 \\cdot 1 + \\beta_1 \\cdot x$ and R goes on computing the $\\beta$s for you. Thus `y ~ 1 + x` is the R-way of writing $y = a \\cdot x + b$.\n",
    "\n",
    "Notice the identical `t`, `df`, `p`, and estimates. We can get the confidence interval by running `confint(lm(...))`."
   ]
  },
  {
   "cell_type": "code",
   "execution_count": 26,
   "metadata": {},
   "outputs": [],
   "source": [
    "# TODO"
   ]
  },
  {
   "cell_type": "markdown",
   "metadata": {},
   "source": [
    "### 5.1.5 Python code: Mann-Whitney U"
   ]
  },
  {
   "cell_type": "code",
   "execution_count": 27,
   "metadata": {},
   "outputs": [],
   "source": [
    "# TODO"
   ]
  },
  {
   "cell_type": "markdown",
   "metadata": {},
   "source": [
    "## 5.2 Welch’s t-test\n",
    "\n",
    "This is identical to the (Student's) [independent t-test](#t2) above except that Student's assumes identical variances and **Welch's t-test** does not. So the linear model is the same and the trick is in the variances, which I won't go further into here."
   ]
  },
  {
   "cell_type": "code",
   "execution_count": 28,
   "metadata": {},
   "outputs": [],
   "source": [
    "t, p = scipy.stats.ttest_ind(data.y, data.y2, equal_var=False)"
   ]
  }
 ],
 "metadata": {
  "kernelspec": {
   "display_name": "Python 3",
   "language": "python",
   "name": "python3"
  },
  "language_info": {
   "codemirror_mode": {
    "name": "ipython",
    "version": 3
   },
   "file_extension": ".py",
   "mimetype": "text/x-python",
   "name": "python",
   "nbconvert_exporter": "python",
   "pygments_lexer": "ipython3",
   "version": "3.6.7"
  }
 },
 "nbformat": 4,
 "nbformat_minor": 2
}
